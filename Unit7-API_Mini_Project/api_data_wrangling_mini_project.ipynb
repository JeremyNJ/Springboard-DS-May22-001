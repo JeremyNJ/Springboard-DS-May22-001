{
 "cells": [
  {
   "cell_type": "markdown",
   "metadata": {},
   "source": [
    "This exercise will require you to pull some data from https://data.nasdaq.com/ (formerly Quandl API)."
   ]
  },
  {
   "cell_type": "markdown",
   "metadata": {},
   "source": [
    "As a first step, you will need to register a free account on the https://data.nasdaq.com/ website."
   ]
  },
  {
   "cell_type": "markdown",
   "metadata": {},
   "source": [
    "After you register, you will be provided with a unique API key, that you should store:\n",
    "\n",
    "*Note*: Use a `.env` file and put your key in there and `python-dotenv` to access it in this notebook. \n",
    "\n",
    "The code below uses a key that was used when generating this project but has since been deleted. Never submit your keys to source control. There is a `.env-example` file in this repository to illusrtate what you need. Copy that to a file called `.env` and use your own api key in that `.env` file. Make sure you also have a `.gitignore` file with a line for `.env` added to it. \n",
    "\n",
    "The standard Python gitignore is [here](https://github.com/github/gitignore/blob/master/Python.gitignore) you can just copy that. "
   ]
  },
  {
   "cell_type": "code",
   "execution_count": 1,
   "metadata": {},
   "outputs": [
    {
     "name": "stdout",
     "output_type": "stream",
     "text": [
      "Requirement already satisfied: python-dotenv in c:\\users\\jeremy\\anaconda3\\lib\\site-packages (0.21.1)\n"
     ]
    }
   ],
   "source": [
    "# get api key from your .env file\n",
    "import os\n",
    "# Install a pip package (namely python-dotenv) in the current Jupyter kernel\n",
    "import sys\n",
    "!{sys.executable} -m pip install python-dotenv\n",
    "from dotenv import load_dotenv\n",
    "\n",
    "load_dotenv()\n",
    "API_KEY = os.getenv('NASDAQ_API_KEY')\n",
    "\n",
    "##print(API_KEY)"
   ]
  },
  {
   "cell_type": "markdown",
   "metadata": {},
   "source": [
    "Nasdaq Data has a large number of data sources, but, unfortunately, most of them require a Premium subscription. Still, there are also a good number of free datasets."
   ]
  },
  {
   "cell_type": "markdown",
   "metadata": {},
   "source": [
    "For this mini project, we will focus on equities data from the Frankfurt Stock Exhange (FSE), which is available for free. We'll try and analyze the stock prices of a company called Carl Zeiss Meditec, which manufactures tools for eye examinations, as well as medical lasers for laser eye surgery: https://www.zeiss.com/meditec/int/home.html. The company is listed under the stock ticker AFX_X."
   ]
  },
  {
   "cell_type": "markdown",
   "metadata": {},
   "source": [
    "You can find the detailed Nasdaq Data API instructions here: https://docs.data.nasdaq.com/docs/in-depth-usage"
   ]
  },
  {
   "cell_type": "markdown",
   "metadata": {},
   "source": [
    "While there is a dedicated Python package for connecting to the Nasdaq API, we would prefer that you use the *requests* package, which can be easily downloaded using *pip* or *conda*. You can find the documentation for the package here: http://docs.python-requests.org/en/master/ "
   ]
  },
  {
   "cell_type": "markdown",
   "metadata": {},
   "source": [
    "Finally, apart from the *requests* package, you are encouraged to not use any third party Python packages, such as *pandas*, and instead focus on what's available in the Python Standard Library (the *collections* module might come in handy: https://pymotw.com/3/collections/).\n",
    "Also, since you won't have access to DataFrames, you are encouraged to us Python's native data structures - preferably dictionaries, though some questions can also be answered using lists.\n",
    "You can read more on these data structures here: https://docs.python.org/3/tutorial/datastructures.html"
   ]
  },
  {
   "cell_type": "markdown",
   "metadata": {},
   "source": [
    "Keep in mind that the JSON responses you will be getting from the API map almost one-to-one to Python's dictionaries. Unfortunately, they can be very nested, so make sure you read up on indexing dictionaries in the documentation provided above."
   ]
  },
  {
   "cell_type": "code",
   "execution_count": 2,
   "metadata": {},
   "outputs": [],
   "source": [
    "# First, import the relevant modules\n",
    "import requests\n",
    "import pprint as pp"
   ]
  },
  {
   "cell_type": "markdown",
   "metadata": {},
   "source": [
    "Note: API's can change a bit with each version, for this exercise it is reccomended to use the nasdaq api at `https://data.nasdaq.com/api/v3/`. This is the same api as what used to be quandl so `https://www.quandl.com/api/v3/` should work too.\n",
    "\n",
    "Hint: We are looking for the `AFX_X` data on the `datasets/FSE/` dataset."
   ]
  },
  {
   "cell_type": "code",
   "execution_count": 3,
   "metadata": {},
   "outputs": [
    {
     "name": "stdout",
     "output_type": "stream",
     "text": [
      "type(r): <class 'requests.models.Response'>\n"
     ]
    }
   ],
   "source": [
    "# Now, call the Nasdaq API and pull out a small sample of the data (only one day) to get a glimpse\n",
    "# into the JSON structure that will be returned\n",
    "url = \"https://data.nasdaq.com/api/v3/datasets/FSE/AFX_X.json?start_date=2023-01-13&end_date=2023-01-13\"\n",
    "r = requests.get(url)\n",
    "print(\"type(r):\", type(r))"
   ]
  },
  {
   "cell_type": "code",
   "execution_count": 4,
   "metadata": {},
   "outputs": [
    {
     "name": "stdout",
     "output_type": "stream",
     "text": [
      "{'dataset': {'collapse': None,\n",
      "             'column_index': None,\n",
      "             'column_names': ['Date',\n",
      "                              'Open',\n",
      "                              'High',\n",
      "                              'Low',\n",
      "                              'Close',\n",
      "                              'Change',\n",
      "                              'Traded Volume',\n",
      "                              'Turnover',\n",
      "                              'Last Price of the Day',\n",
      "                              'Daily Traded Units',\n",
      "                              'Daily Turnover'],\n",
      "             'data': [],\n",
      "             'database_code': 'FSE',\n",
      "             'database_id': 6129,\n",
      "             'dataset_code': 'AFX_X',\n",
      "             'description': 'Stock Prices for Carl Zeiss Meditec (2020-11-02) '\n",
      "                            'from the Frankfurt Stock Exchange.<br><br>Trading '\n",
      "                            'System: Xetra<br><br>ISIN: DE0005313704',\n",
      "             'end_date': '2020-12-01',\n",
      "             'frequency': 'daily',\n",
      "             'id': 10095370,\n",
      "             'limit': None,\n",
      "             'name': 'Carl Zeiss Meditec (AFX_X)',\n",
      "             'newest_available_date': '2020-12-01',\n",
      "             'oldest_available_date': '2000-06-07',\n",
      "             'order': None,\n",
      "             'premium': False,\n",
      "             'refreshed_at': '2020-12-01T14:48:09.907Z',\n",
      "             'start_date': '2023-01-13',\n",
      "             'transform': None,\n",
      "             'type': 'Time Series'}}\n"
     ]
    }
   ],
   "source": [
    "# Inspect the JSON structure of the object you created, and take note of how nested it is,\n",
    "# as well as the overall structure\n",
    "r_json = r.json()\n",
    "pp.pprint(r_json)"
   ]
  },
  {
   "cell_type": "markdown",
   "metadata": {},
   "source": [
    "These are your tasks for this mini project:\n",
    "\n",
    "1. Collect data from the Franfurt Stock Exchange, for the ticker AFX_X, for the whole year 2017 (keep in mind that the date format is YYYY-MM-DD).\n",
    "2. Convert the returned JSON object into a Python dictionary.\n",
    "3. Calculate what the highest and lowest opening prices were for the stock in this period.\n",
    "4. What was the largest change in any one day (based on High and Low price)?\n",
    "5. What was the largest change between any two days (based on Closing Price)?\n",
    "6. What was the average daily trading volume during this year?\n",
    "7. (Optional) What was the median trading volume during this year. (Note: you may need to implement your own function for calculating the median.)"
   ]
  },
  {
   "cell_type": "markdown",
   "metadata": {},
   "source": [
    "Proceeding step-by-step\n",
    "1. Collect data from the Frankfurt Stock Exchange, for the ticker AFX_X, for the whole year 2017\n",
    "2. Convert the returned JSON object into a Python dictionary."
   ]
  },
  {
   "cell_type": "code",
   "execution_count": 5,
   "metadata": {},
   "outputs": [
    {
     "name": "stdout",
     "output_type": "stream",
     "text": [
      "type(zeiss_2017): <class 'dict'>\n"
     ]
    }
   ],
   "source": [
    "# Collect data from the Franfurt Stock Exchange, for the ticker AFX_X, for the whole year 2017\n",
    "# and convert the requests output into a Python dictionary.\n",
    "url = \"https://data.nasdaq.com/api/v3/datasets/FSE/AFX_X.json?start_date=2017-01-01&end_date=2017-12-31&order=asc\"\n",
    "r = requests.get(url)\n",
    "zeiss_2017 = r.json()\n",
    "print(\"type(zeiss_2017):\", type(zeiss_2017))"
   ]
  },
  {
   "cell_type": "markdown",
   "metadata": {},
   "source": [
    "3. Calculate what the highest and lowest opening prices were for the stock in this period."
   ]
  },
  {
   "cell_type": "code",
   "execution_count": 6,
   "metadata": {},
   "outputs": [
    {
     "name": "stdout",
     "output_type": "stream",
     "text": [
      "type(zeiss_2017_data): <class 'list'> \n",
      "\n",
      "first 10 days' data lists:\n",
      " [['2017-01-02', 34.99, 35.94, 34.99, 35.8, None, 44700.0, 1590561.0, None, None, None], ['2017-01-03', 35.9, 35.93, 35.34, 35.48, None, 70618.0, 2515473.0, None, None, None], ['2017-01-04', 35.48, 35.51, 34.75, 35.19, None, 54408.0, 1906810.0, None, None, None], ['2017-01-05', 35.02, 35.2, 34.73, 35.06, None, 48412.0, 1692326.0, None, None, None], ['2017-01-06', 34.91, 35.21, 34.91, 35.04, None, 27507.0, 964046.0, None, None, None], ['2017-01-09', 35.29, 35.35, 34.43, 34.67, None, 62225.0, 2157182.0, None, None, None], ['2017-01-10', 34.8, 34.98, 34.46, 34.91, None, 43976.0, 1528055.0, None, None, None], ['2017-01-11', 34.95, 36.0, 34.84, 35.42, None, 123530.0, 4369079.0, None, None, None], ['2017-01-12', 35.38, 35.38, 34.31, 34.9, None, 163860.0, 5703427.0, None, None, None], ['2017-01-13', 34.98, 34.98, 34.6, 34.85, None, 59367.0, 2065534.0, None, None, None]]\n",
      "\n",
      "type(opens): <class 'list'>\n",
      "\n",
      "highest opening price in 2017: 53.11\n",
      "\n",
      "lowest opening price in 2017: 34.00\n"
     ]
    }
   ],
   "source": [
    "# Using the JSON nested structure printed above, we see that the entire\n",
    "# dataset is nested under a \"dataset\" member. Within that nested dict,\n",
    "# \"Open\" is the second list item (at index 1) of the \"data\" member.\n",
    "#\n",
    "# Let's start by reducing one level of nesting and pull out the list\n",
    "# of data lists, so we have one data list for each trading day's data.\n",
    "# We also print the first 10 data lists to make sure we have what\n",
    "# we think we have.\n",
    "#\n",
    "zeiss_2017_data = zeiss_2017['dataset']['data']\n",
    "print(\"type(zeiss_2017_data):\", type(zeiss_2017_data), \"\\n\")\n",
    "print(\"first 10 days' data lists:\\n\", zeiss_2017_data[0:10])\n",
    "print()\n",
    "#\n",
    "# Now use a list comprehension to get a list of the\n",
    "# opening price for each trading day.\n",
    "#\n",
    "opens = [data[1] for data in zeiss_2017_data]\n",
    "print(\"type(opens):\", type(opens))\n",
    "#\n",
    "# Finally, let's find and print the highest and lowest values\n",
    "# Note that None values need to be handled, as they trip up min() and max()\n",
    "#\n",
    "max2017open = max(i for i in opens if i is not None)\n",
    "min2017open = min(i for i in opens if i is not None)\n",
    "print(\"\\nhighest opening price in 2017: {:.2f}\".format(max2017open))\n",
    "print(\"\\nlowest opening price in 2017: {:.2f}\".format(min2017open))"
   ]
  },
  {
   "cell_type": "markdown",
   "metadata": {},
   "source": [
    "4. What was the largest change in any one day (based on High and Low price)?"
   ]
  },
  {
   "cell_type": "code",
   "execution_count": 7,
   "metadata": {},
   "outputs": [
    {
     "name": "stdout",
     "output_type": "stream",
     "text": [
      "\n",
      "max 1-day price change in 2017: 2.81\n",
      "\n",
      "check:\n",
      "(looping through data lists, print any list with (day high) - (day low) > 2.5)\n",
      "['2017-05-11', 43.4, 46.06, 43.25, 45.0, None, 189125.0, 8496322.0, None, None, None]\n"
     ]
    }
   ],
   "source": [
    "# Similar to above, use a list comprehension to get a list of one-day change\n",
    "# from the daily highs and lows.\n",
    "changes = [data[2] - data[3] for data in zeiss_2017_data]\n",
    "max2017change = max(changes)\n",
    "print(\"\\nmax 1-day price change in 2017: {:.2f}\".format(max2017change))\n",
    "# check\n",
    "print(\"\\ncheck:\")\n",
    "print(\"(looping through data lists, print any list with (day high) - (day low) > 2.5)\")\n",
    "for i in zeiss_2017_data :\n",
    "  if i[2] - i[3] > 2.5 :\n",
    "    print(i)"
   ]
  },
  {
   "cell_type": "markdown",
   "metadata": {},
   "source": [
    "5. What was the largest change between any two days (based on Closing Price)?"
   ]
  },
  {
   "cell_type": "code",
   "execution_count": 8,
   "metadata": {},
   "outputs": [
    {
     "name": "stdout",
     "output_type": "stream",
     "text": [
      "type(zeiss_2017_change): <class 'list'> \n",
      "\n",
      "first 10 days' data lists:\n",
      " [['2017-01-03', -0.32], ['2017-01-04', -0.29], ['2017-01-05', -0.13], ['2017-01-06', -0.020000000000003], ['2017-01-09', -0.37], ['2017-01-10', 0.24], ['2017-01-11', 0.51], ['2017-01-12', -0.52], ['2017-01-13', -0.049999999999997], ['2017-01-16', 0.22]]\n",
      "\n",
      "\n",
      "max day-over-day change in 2017: 2.56\n",
      "on\n",
      "2017-08-09\n"
     ]
    }
   ],
   "source": [
    "# The API has filtering capabilities that can calculate a difference between\n",
    "# data items on day t and t-1. Let's look at the closing prices (at data\n",
    "# index 4) and apply the diff transformation.\n",
    "#\n",
    "url = \"https://data.nasdaq.com/api/v3/datasets/FSE/AFX_X.json?column_index=4&transform=diff&start_date=2017-01-01&end_date=2017-12-31&order=asc\"\n",
    "r = requests.get(url)\n",
    "zeiss_2017_close_diff = r.json()\n",
    "#\n",
    "# As before, let's reduce the resulting nested dictionary structure by\n",
    "# one level and pull out the list of daily data lists.\n",
    "# We also print the first 10 data lists to make sure we have what\n",
    "# we think we have.\n",
    "#\n",
    "zeiss_2017_change = zeiss_2017_close_diff['dataset']['data']\n",
    "print(\"type(zeiss_2017_change):\", type(zeiss_2017_change), \"\\n\")\n",
    "print(\"first 10 days' data lists:\\n\", zeiss_2017_change[0:10])\n",
    "print()\n",
    "#\n",
    "# Now let's find the maximum *absolute* change.\n",
    "# First, do a comprehension to replace changes by their absolute value.\n",
    "# We'll do a dict comprehension in order to preserve the dates.\n",
    "#\n",
    "changes = {data[0] : abs(data[1]) for data in zeiss_2017_change}\n",
    "max_change = round(max(changes.values()), 2)\n",
    "print(\"\\nmax day-over-day change in 2017: {:.2f}\".format(max_change))\n",
    "#\n",
    "# Print out the date on which this maximum change occured.\n",
    "# (Or dates, plural, if there were ties.)\n",
    "# This could be done more efficiently, but the explicit for\n",
    "# loop has the benefit of readability.\n",
    "#\n",
    "print(\"on\")\n",
    "for key, value in changes.items() :\n",
    "  if round(value, 2) == max_change :\n",
    "        print(key)"
   ]
  },
  {
   "cell_type": "markdown",
   "metadata": {},
   "source": [
    "6. What was the average daily trading volume during this year?"
   ]
  },
  {
   "cell_type": "code",
   "execution_count": 10,
   "metadata": {},
   "outputs": [
    {
     "name": "stdout",
     "output_type": "stream",
     "text": [
      "\n",
      "Average volume in 2017: 89124.3\n"
     ]
    }
   ],
   "source": [
    "# The trading volume is at index 6 in the daily data lists.\n",
    "# Let's collect them with a list comprehension and take\n",
    "# the mean of the list.\n",
    "#\n",
    "##test_data = [ [1, 1, 6], [1, 1, 8], [1, 1, 9], [1, 1, None] ]\n",
    "##test_vols = [data[2] for data in test_data]\n",
    "##ave_vol = sum(test_vols) / len(test_vols)\n",
    "##print(\"\\nAverage volume in test: {:.1f}\".format(ave_vol))\n",
    "volumes = [data[6] for data in zeiss_2017_data]\n",
    "ave_vol = sum(volumes) / len(volumes)\n",
    "print(\"\\nAverage volume in 2017: {:.1f}\".format(ave_vol))"
   ]
  },
  {
   "cell_type": "code",
   "execution_count": null,
   "metadata": {},
   "outputs": [],
   "source": []
  }
 ],
 "metadata": {
  "interpreter": {
   "hash": "7635eb1b9d0fe97add78a7368b6b431c09bb8ad5c42e437d64abdd99821c31ae"
  },
  "kernelspec": {
   "display_name": "Python 3 (ipykernel)",
   "language": "python",
   "name": "python3"
  },
  "language_info": {
   "codemirror_mode": {
    "name": "ipython",
    "version": 3
   },
   "file_extension": ".py",
   "mimetype": "text/x-python",
   "name": "python",
   "nbconvert_exporter": "python",
   "pygments_lexer": "ipython3",
   "version": "3.9.12"
  }
 },
 "nbformat": 4,
 "nbformat_minor": 4
}
